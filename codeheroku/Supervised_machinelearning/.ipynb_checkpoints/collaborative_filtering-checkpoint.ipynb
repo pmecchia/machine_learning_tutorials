{
 "cells": [
  {
   "cell_type": "code",
   "execution_count": 61,
   "metadata": {},
   "outputs": [],
   "source": [
    "import pandas as pd\n",
    "from sklearn.metrics.pairwise import cosine_similarity\n",
    "\n"
   ]
  },
  {
   "cell_type": "code",
   "execution_count": 62,
   "metadata": {},
   "outputs": [
    {
     "data": {
      "text/html": [
       "<div>\n",
       "<style scoped>\n",
       "    .dataframe tbody tr th:only-of-type {\n",
       "        vertical-align: middle;\n",
       "    }\n",
       "\n",
       "    .dataframe tbody tr th {\n",
       "        vertical-align: top;\n",
       "    }\n",
       "\n",
       "    .dataframe thead th {\n",
       "        text-align: right;\n",
       "    }\n",
       "</style>\n",
       "<table border=\"1\" class=\"dataframe\">\n",
       "  <thead>\n",
       "    <tr style=\"text-align: right;\">\n",
       "      <th></th>\n",
       "      <th>action1</th>\n",
       "      <th>action2</th>\n",
       "      <th>action3</th>\n",
       "      <th>romantic1</th>\n",
       "      <th>romantic2</th>\n",
       "      <th>romantic3</th>\n",
       "    </tr>\n",
       "  </thead>\n",
       "  <tbody>\n",
       "    <tr>\n",
       "      <th>user 1</th>\n",
       "      <td>4.0</td>\n",
       "      <td>5.0</td>\n",
       "      <td>3.0</td>\n",
       "      <td>NaN</td>\n",
       "      <td>2.0</td>\n",
       "      <td>1.0</td>\n",
       "    </tr>\n",
       "    <tr>\n",
       "      <th>user 2</th>\n",
       "      <td>5.0</td>\n",
       "      <td>3.0</td>\n",
       "      <td>3.0</td>\n",
       "      <td>2.0</td>\n",
       "      <td>2.0</td>\n",
       "      <td>NaN</td>\n",
       "    </tr>\n",
       "    <tr>\n",
       "      <th>user 3</th>\n",
       "      <td>1.0</td>\n",
       "      <td>NaN</td>\n",
       "      <td>NaN</td>\n",
       "      <td>4.0</td>\n",
       "      <td>5.0</td>\n",
       "      <td>4.0</td>\n",
       "    </tr>\n",
       "    <tr>\n",
       "      <th>user 4</th>\n",
       "      <td>NaN</td>\n",
       "      <td>2.0</td>\n",
       "      <td>1.0</td>\n",
       "      <td>4.0</td>\n",
       "      <td>NaN</td>\n",
       "      <td>3.0</td>\n",
       "    </tr>\n",
       "    <tr>\n",
       "      <th>user 5</th>\n",
       "      <td>1.0</td>\n",
       "      <td>NaN</td>\n",
       "      <td>2.0</td>\n",
       "      <td>3.0</td>\n",
       "      <td>3.0</td>\n",
       "      <td>4.0</td>\n",
       "    </tr>\n",
       "  </tbody>\n",
       "</table>\n",
       "</div>"
      ],
      "text/plain": [
       "        action1  action2  action3  romantic1  romantic2  romantic3\n",
       "user 1      4.0      5.0      3.0        NaN        2.0        1.0\n",
       "user 2      5.0      3.0      3.0        2.0        2.0        NaN\n",
       "user 3      1.0      NaN      NaN        4.0        5.0        4.0\n",
       "user 4      NaN      2.0      1.0        4.0        NaN        3.0\n",
       "user 5      1.0      NaN      2.0        3.0        3.0        4.0"
      ]
     },
     "execution_count": 62,
     "metadata": {},
     "output_type": "execute_result"
    }
   ],
   "source": [
    "toys_df = pd.read_csv(\"toy_dataset.csv\",index_col = 0)\n",
    "toys_df.head()"
   ]
  },
  {
   "cell_type": "code",
   "execution_count": 63,
   "metadata": {},
   "outputs": [
    {
     "data": {
      "text/html": [
       "<div>\n",
       "<style scoped>\n",
       "    .dataframe tbody tr th:only-of-type {\n",
       "        vertical-align: middle;\n",
       "    }\n",
       "\n",
       "    .dataframe tbody tr th {\n",
       "        vertical-align: top;\n",
       "    }\n",
       "\n",
       "    .dataframe thead th {\n",
       "        text-align: right;\n",
       "    }\n",
       "</style>\n",
       "<table border=\"1\" class=\"dataframe\">\n",
       "  <thead>\n",
       "    <tr style=\"text-align: right;\">\n",
       "      <th></th>\n",
       "      <th>action1</th>\n",
       "      <th>action2</th>\n",
       "      <th>action3</th>\n",
       "      <th>romantic1</th>\n",
       "      <th>romantic2</th>\n",
       "      <th>romantic3</th>\n",
       "    </tr>\n",
       "  </thead>\n",
       "  <tbody>\n",
       "    <tr>\n",
       "      <th>user 1</th>\n",
       "      <td>0.3125</td>\n",
       "      <td>0.555556</td>\n",
       "      <td>0.375</td>\n",
       "      <td>0.000</td>\n",
       "      <td>-0.333333</td>\n",
       "      <td>-0.666667</td>\n",
       "    </tr>\n",
       "    <tr>\n",
       "      <th>user 2</th>\n",
       "      <td>0.5625</td>\n",
       "      <td>-0.111111</td>\n",
       "      <td>0.375</td>\n",
       "      <td>-0.625</td>\n",
       "      <td>-0.333333</td>\n",
       "      <td>0.000000</td>\n",
       "    </tr>\n",
       "    <tr>\n",
       "      <th>user 3</th>\n",
       "      <td>-0.4375</td>\n",
       "      <td>0.000000</td>\n",
       "      <td>0.000</td>\n",
       "      <td>0.375</td>\n",
       "      <td>0.666667</td>\n",
       "      <td>0.333333</td>\n",
       "    </tr>\n",
       "    <tr>\n",
       "      <th>user 4</th>\n",
       "      <td>0.0000</td>\n",
       "      <td>-0.444444</td>\n",
       "      <td>-0.625</td>\n",
       "      <td>0.375</td>\n",
       "      <td>0.000000</td>\n",
       "      <td>0.000000</td>\n",
       "    </tr>\n",
       "    <tr>\n",
       "      <th>user 5</th>\n",
       "      <td>-0.4375</td>\n",
       "      <td>0.000000</td>\n",
       "      <td>-0.125</td>\n",
       "      <td>-0.125</td>\n",
       "      <td>0.000000</td>\n",
       "      <td>0.333333</td>\n",
       "    </tr>\n",
       "  </tbody>\n",
       "</table>\n",
       "</div>"
      ],
      "text/plain": [
       "        action1   action2  action3  romantic1  romantic2  romantic3\n",
       "user 1   0.3125  0.555556    0.375      0.000  -0.333333  -0.666667\n",
       "user 2   0.5625 -0.111111    0.375     -0.625  -0.333333   0.000000\n",
       "user 3  -0.4375  0.000000    0.000      0.375   0.666667   0.333333\n",
       "user 4   0.0000 -0.444444   -0.625      0.375   0.000000   0.000000\n",
       "user 5  -0.4375  0.000000   -0.125     -0.125   0.000000   0.333333"
      ]
     },
     "execution_count": 63,
     "metadata": {},
     "output_type": "execute_result"
    }
   ],
   "source": [
    "def standarzise(row):\n",
    "    return (row-row.mean())/(row.max()-row.min())\n",
    "toys_df = toys_df.apply(standarzise).fillna(0)\n",
    "toys_df.head()"
   ]
  },
  {
   "cell_type": "code",
   "execution_count": 64,
   "metadata": {},
   "outputs": [
    {
     "data": {
      "text/html": [
       "<div>\n",
       "<style scoped>\n",
       "    .dataframe tbody tr th:only-of-type {\n",
       "        vertical-align: middle;\n",
       "    }\n",
       "\n",
       "    .dataframe tbody tr th {\n",
       "        vertical-align: top;\n",
       "    }\n",
       "\n",
       "    .dataframe thead th {\n",
       "        text-align: right;\n",
       "    }\n",
       "</style>\n",
       "<table border=\"1\" class=\"dataframe\">\n",
       "  <thead>\n",
       "    <tr style=\"text-align: right;\">\n",
       "      <th></th>\n",
       "      <th>action1</th>\n",
       "      <th>action2</th>\n",
       "      <th>action3</th>\n",
       "      <th>romantic1</th>\n",
       "      <th>romantic2</th>\n",
       "      <th>romantic3</th>\n",
       "    </tr>\n",
       "  </thead>\n",
       "  <tbody>\n",
       "    <tr>\n",
       "      <th>action1</th>\n",
       "      <td>1.000000</td>\n",
       "      <td>0.172854</td>\n",
       "      <td>0.517195</td>\n",
       "      <td>-0.622745</td>\n",
       "      <td>-0.800327</td>\n",
       "      <td>-0.685994</td>\n",
       "    </tr>\n",
       "    <tr>\n",
       "      <th>action2</th>\n",
       "      <td>0.172854</td>\n",
       "      <td>1.000000</td>\n",
       "      <td>0.744387</td>\n",
       "      <td>-0.162835</td>\n",
       "      <td>-0.251976</td>\n",
       "      <td>-0.629941</td>\n",
       "    </tr>\n",
       "    <tr>\n",
       "      <th>action3</th>\n",
       "      <td>0.517195</td>\n",
       "      <td>0.744387</td>\n",
       "      <td>1.000000</td>\n",
       "      <td>-0.659091</td>\n",
       "      <td>-0.369274</td>\n",
       "      <td>-0.430820</td>\n",
       "    </tr>\n",
       "    <tr>\n",
       "      <th>romantic1</th>\n",
       "      <td>-0.622745</td>\n",
       "      <td>-0.162835</td>\n",
       "      <td>-0.659091</td>\n",
       "      <td>1.000000</td>\n",
       "      <td>0.677003</td>\n",
       "      <td>0.123091</td>\n",
       "    </tr>\n",
       "    <tr>\n",
       "      <th>romantic2</th>\n",
       "      <td>-0.800327</td>\n",
       "      <td>-0.251976</td>\n",
       "      <td>-0.369274</td>\n",
       "      <td>0.677003</td>\n",
       "      <td>1.000000</td>\n",
       "      <td>0.666667</td>\n",
       "    </tr>\n",
       "    <tr>\n",
       "      <th>romantic3</th>\n",
       "      <td>-0.685994</td>\n",
       "      <td>-0.629941</td>\n",
       "      <td>-0.430820</td>\n",
       "      <td>0.123091</td>\n",
       "      <td>0.666667</td>\n",
       "      <td>1.000000</td>\n",
       "    </tr>\n",
       "  </tbody>\n",
       "</table>\n",
       "</div>"
      ],
      "text/plain": [
       "            action1   action2   action3  romantic1  romantic2  romantic3\n",
       "action1    1.000000  0.172854  0.517195  -0.622745  -0.800327  -0.685994\n",
       "action2    0.172854  1.000000  0.744387  -0.162835  -0.251976  -0.629941\n",
       "action3    0.517195  0.744387  1.000000  -0.659091  -0.369274  -0.430820\n",
       "romantic1 -0.622745 -0.162835 -0.659091   1.000000   0.677003   0.123091\n",
       "romantic2 -0.800327 -0.251976 -0.369274   0.677003   1.000000   0.666667\n",
       "romantic3 -0.685994 -0.629941 -0.430820   0.123091   0.666667   1.000000"
      ]
     },
     "execution_count": 64,
     "metadata": {},
     "output_type": "execute_result"
    }
   ],
   "source": [
    "item_similarity = cosine_similarity(toys_df.T)\n",
    "item_similarity_df = pd.DataFrame(item_similarity,index=toys_df.columns, columns = toys_df.columns )\n",
    "item_similarity_df"
   ]
  },
  {
   "cell_type": "code",
   "execution_count": 65,
   "metadata": {},
   "outputs": [
    {
     "data": {
      "text/plain": [
       "romantic2    0.400163\n",
       "romantic3    0.342997\n",
       "romantic1    0.311373\n",
       "action2     -0.086427\n",
       "action3     -0.258598\n",
       "action1     -0.500000\n",
       "Name: action1, dtype: float64"
      ]
     },
     "execution_count": 65,
     "metadata": {},
     "output_type": "execute_result"
    }
   ],
   "source": [
    "def recommandation_movie(movie,rating):\n",
    "    similarity = item_similarity_df[movie]*(rating-2.5)\n",
    "    return similarity.sort_values(ascending=False)\n",
    "\n",
    "recommandation_movie(\"action1\",2)"
   ]
  },
  {
   "cell_type": "code",
   "execution_count": 66,
   "metadata": {},
   "outputs": [
    {
     "data": {
      "text/plain": [
       "action1      3.788273\n",
       "action3      3.055800\n",
       "action2      2.877047\n",
       "romantic1   -1.985753\n",
       "romantic2   -3.378781\n",
       "romantic3   -4.159897\n",
       "dtype: float64"
      ]
     },
     "execution_count": 66,
     "metadata": {},
     "output_type": "execute_result"
    }
   ],
   "source": [
    "action_lover = [('action1',5),('action2',4),('romantic3',1)]\n",
    "\n",
    "action_lover_df=pd.DataFrame()\n",
    "\n",
    "for movie,rating in action_lover:\n",
    "    action_lover_df=action_lover_df.append(recommandation_movie(movie,rating),ignore_index=True)\n",
    "      \n",
    "action_lover_df.sum().sort_values(ascending=False)        "
   ]
  },
  {
   "cell_type": "code",
   "execution_count": null,
   "metadata": {},
   "outputs": [],
   "source": []
  },
  {
   "cell_type": "code",
   "execution_count": null,
   "metadata": {},
   "outputs": [],
   "source": []
  },
  {
   "cell_type": "code",
   "execution_count": null,
   "metadata": {},
   "outputs": [],
   "source": []
  }
 ],
 "metadata": {
  "kernelspec": {
   "display_name": "Python 3",
   "language": "python",
   "name": "python3"
  },
  "language_info": {
   "codemirror_mode": {
    "name": "ipython",
    "version": 3
   },
   "file_extension": ".py",
   "mimetype": "text/x-python",
   "name": "python",
   "nbconvert_exporter": "python",
   "pygments_lexer": "ipython3",
   "version": "3.7.1"
  }
 },
 "nbformat": 4,
 "nbformat_minor": 2
}
