{
 "cells": [
  {
   "cell_type": "code",
   "execution_count": 27,
   "metadata": {},
   "outputs": [
    {
     "name": "stdout",
     "output_type": "stream",
     "text": [
      "1.13.1\n"
     ]
    }
   ],
   "source": [
    "import pandas as pd\n",
    "import matplotlib.pyplot as plt\n",
    "from sklearn.model_selection import train_test_split\n",
    "from sklearn.preprocessing import StandardScaler\n",
    "import numpy as np\n",
    "import tensorflow as tf\n",
    "from tensorflow import keras\n",
    "print(tf.__version__)"
   ]
  },
  {
   "cell_type": "code",
   "execution_count": 28,
   "metadata": {},
   "outputs": [
    {
     "data": {
      "text/html": [
       "<div>\n",
       "<style scoped>\n",
       "    .dataframe tbody tr th:only-of-type {\n",
       "        vertical-align: middle;\n",
       "    }\n",
       "\n",
       "    .dataframe tbody tr th {\n",
       "        vertical-align: top;\n",
       "    }\n",
       "\n",
       "    .dataframe thead th {\n",
       "        text-align: right;\n",
       "    }\n",
       "</style>\n",
       "<table border=\"1\" class=\"dataframe\">\n",
       "  <thead>\n",
       "    <tr style=\"text-align: right;\">\n",
       "      <th></th>\n",
       "      <th>Hours</th>\n",
       "      <th>IQ</th>\n",
       "      <th>Scores</th>\n",
       "      <th>Pass</th>\n",
       "    </tr>\n",
       "  </thead>\n",
       "  <tbody>\n",
       "    <tr>\n",
       "      <th>0</th>\n",
       "      <td>2.3</td>\n",
       "      <td>80</td>\n",
       "      <td>18</td>\n",
       "      <td>0</td>\n",
       "    </tr>\n",
       "    <tr>\n",
       "      <th>1</th>\n",
       "      <td>5.0</td>\n",
       "      <td>80</td>\n",
       "      <td>45</td>\n",
       "      <td>1</td>\n",
       "    </tr>\n",
       "    <tr>\n",
       "      <th>2</th>\n",
       "      <td>3.2</td>\n",
       "      <td>70</td>\n",
       "      <td>25</td>\n",
       "      <td>0</td>\n",
       "    </tr>\n",
       "    <tr>\n",
       "      <th>3</th>\n",
       "      <td>8.5</td>\n",
       "      <td>90</td>\n",
       "      <td>72</td>\n",
       "      <td>1</td>\n",
       "    </tr>\n",
       "    <tr>\n",
       "      <th>4</th>\n",
       "      <td>3.5</td>\n",
       "      <td>70</td>\n",
       "      <td>30</td>\n",
       "      <td>0</td>\n",
       "    </tr>\n",
       "  </tbody>\n",
       "</table>\n",
       "</div>"
      ],
      "text/plain": [
       "   Hours  IQ  Scores  Pass\n",
       "0    2.3  80      18     0\n",
       "1    5.0  80      45     1\n",
       "2    3.2  70      25     0\n",
       "3    8.5  90      72     1\n",
       "4    3.5  70      30     0"
      ]
     },
     "execution_count": 28,
     "metadata": {},
     "output_type": "execute_result"
    }
   ],
   "source": [
    "df=pd.read_csv(\"dataset/student_scores2.csv\")\n",
    "df.head()"
   ]
  },
  {
   "cell_type": "code",
   "execution_count": 29,
   "metadata": {},
   "outputs": [
    {
     "data": {
      "image/png": "[encoded data removed]",
      "text/plain": [
       "<Figure size 432x288 with 2 Axes>"
      ]
     },
     "metadata": {
      "needs_background": "light"
     },
     "output_type": "display_data"
    }
   ],
   "source": [
    "df.plot.scatter(x='Hours',y='IQ',c='Pass',colormap='bwr')\n",
    "plt.xlabel('Hours')\n",
    "plt.ylabel('IQ')\n",
    "plt.show()"
   ]
  },
  {
   "cell_type": "code",
   "execution_count": 30,
   "metadata": {},
   "outputs": [],
   "source": [
    "X=df.drop([\"Pass\",\"Scores\"],axis=1).values\n",
    "y=df[\"Pass\"].values.reshape(-1,1)\n",
    "\n",
    "X_train,X_test,y_train,y_test = train_test_split(X,y,test_size=0.2)"
   ]
  },
  {
   "cell_type": "code",
   "execution_count": 31,
   "metadata": {},
   "outputs": [],
   "source": [
    "scaler = StandardScaler()\n",
    "scaler.fit(X_train)\n",
    "X_train = scaler.transform(X_train)\n",
    "X_test = scaler.transform(X_test)"
   ]
  },
  {
   "cell_type": "code",
   "execution_count": 32,
   "metadata": {},
   "outputs": [],
   "source": [
    "model = keras.Sequential([\n",
    "    keras.layers.Dense(3,input_shape=(2,),activation=tf.nn.relu,name=\"hidden_layer\"),\n",
    "    keras.layers.Dense(1,activation=tf.nn.sigmoid,name=\"output_layer\")\n",
    "])\n",
    "model.compile(loss=\"binary_crossentropy\",optimizer=\"adam\",metrics=[\"accuracy\"])"
   ]
  },
  {
   "cell_type": "code",
   "execution_count": 33,
   "metadata": {},
   "outputs": [
    {
     "name": "stdout",
     "output_type": "stream",
     "text": [
      "_________________________________________________________________\n",
      "Layer (type)                 Output Shape              Param #   \n",
      "=================================================================\n",
      "hidden_layer (Dense)         (None, 3)                 9         \n",
      "_________________________________________________________________\n",
      "output_layer (Dense)         (None, 1)                 4         \n",
      "=================================================================\n",
      "Total params: 13\n",
      "Trainable params: 13\n",
      "Non-trainable params: 0\n",
      "_________________________________________________________________\n"
     ]
    }
   ],
   "source": [
    "model.summary()"
   ]
  },
  {
   "cell_type": "code",
   "execution_count": 34,
   "metadata": {},
   "outputs": [
    {
     "name": "stdout",
     "output_type": "stream",
     "text": [
      "Epoch 1/100\n",
      "24/24 [==============================] - 0s 15ms/sample - loss: 0.9560 - acc: 0.2083\n",
      "Epoch 2/100\n",
      "24/24 [==============================] - 0s 6ms/sample - loss: 0.9408 - acc: 0.2917\n",
      "Epoch 3/100\n",
      "24/24 [==============================] - 0s 6ms/sample - loss: 0.9284 - acc: 0.3750\n",
      "Epoch 4/100\n",
      "24/24 [==============================] - 0s 4ms/sample - loss: 0.9148 - acc: 0.3750\n",
      "Epoch 5/100\n",
      "24/24 [==============================] - 0s 5ms/sample - loss: 0.9034 - acc: 0.3750\n",
      "Epoch 6/100\n",
      "24/24 [==============================] - 0s 4ms/sample - loss: 0.8915 - acc: 0.4167\n",
      "Epoch 7/100\n",
      "24/24 [==============================] - 0s 6ms/sample - loss: 0.8803 - acc: 0.4583\n",
      "Epoch 8/100\n",
      "24/24 [==============================] - 0s 6ms/sample - loss: 0.8702 - acc: 0.4583\n",
      "Epoch 9/100\n",
      "24/24 [==============================] - 0s 6ms/sample - loss: 0.8595 - acc: 0.4583\n",
      "Epoch 10/100\n",
      "24/24 [==============================] - 0s 6ms/sample - loss: 0.8490 - acc: 0.4583\n",
      "Epoch 11/100\n",
      "24/24 [==============================] - 0s 6ms/sample - loss: 0.8401 - acc: 0.5000\n",
      "Epoch 12/100\n",
      "24/24 [==============================] - 0s 6ms/sample - loss: 0.8309 - acc: 0.5417\n",
      "Epoch 13/100\n",
      "24/24 [==============================] - 0s 7ms/sample - loss: 0.8223 - acc: 0.5417\n",
      "Epoch 14/100\n",
      "24/24 [==============================] - 0s 7ms/sample - loss: 0.8143 - acc: 0.5417\n",
      "Epoch 15/100\n",
      "24/24 [==============================] - 0s 6ms/sample - loss: 0.8072 - acc: 0.5417\n",
      "Epoch 16/100\n",
      "24/24 [==============================] - 0s 5ms/sample - loss: 0.7988 - acc: 0.5417\n",
      "Epoch 17/100\n",
      "24/24 [==============================] - 0s 7ms/sample - loss: 0.7911 - acc: 0.5417\n",
      "Epoch 18/100\n",
      "24/24 [==============================] - 0s 7ms/sample - loss: 0.7838 - acc: 0.5417\n",
      "Epoch 19/100\n",
      "24/24 [==============================] - 0s 13ms/sample - loss: 0.7764 - acc: 0.5417\n",
      "Epoch 20/100\n",
      "24/24 [==============================] - 0s 10ms/sample - loss: 0.7698 - acc: 0.5417\n",
      "Epoch 21/100\n",
      "24/24 [==============================] - 0s 12ms/sample - loss: 0.7628 - acc: 0.5417\n",
      "Epoch 22/100\n",
      "24/24 [==============================] - 0s 8ms/sample - loss: 0.7570 - acc: 0.5417\n",
      "Epoch 23/100\n",
      "24/24 [==============================] - 0s 7ms/sample - loss: 0.7496 - acc: 0.5417\n",
      "Epoch 24/100\n",
      "24/24 [==============================] - 0s 9ms/sample - loss: 0.7436 - acc: 0.5417\n",
      "Epoch 25/100\n",
      "24/24 [==============================] - 0s 11ms/sample - loss: 0.7368 - acc: 0.5417\n",
      "Epoch 26/100\n",
      "24/24 [==============================] - 0s 11ms/sample - loss: 0.7316 - acc: 0.5417\n",
      "Epoch 27/100\n",
      "24/24 [==============================] - 0s 9ms/sample - loss: 0.7243 - acc: 0.5417\n",
      "Epoch 28/100\n",
      "24/24 [==============================] - 0s 10ms/sample - loss: 0.7191 - acc: 0.5417\n",
      "Epoch 29/100\n",
      "24/24 [==============================] - 0s 11ms/sample - loss: 0.7126 - acc: 0.5833\n",
      "Epoch 30/100\n",
      "24/24 [==============================] - 0s 8ms/sample - loss: 0.7059 - acc: 0.5833\n",
      "Epoch 31/100\n",
      "24/24 [==============================] - 0s 13ms/sample - loss: 0.6998 - acc: 0.5833\n",
      "Epoch 32/100\n",
      "24/24 [==============================] - 0s 11ms/sample - loss: 0.6939 - acc: 0.5833\n",
      "Epoch 33/100\n",
      "24/24 [==============================] - 0s 11ms/sample - loss: 0.6880 - acc: 0.5833\n",
      "Epoch 34/100\n",
      "24/24 [==============================] - 0s 10ms/sample - loss: 0.6826 - acc: 0.6667\n",
      "Epoch 35/100\n",
      "24/24 [==============================] - 0s 11ms/sample - loss: 0.6763 - acc: 0.6667\n",
      "Epoch 36/100\n",
      "24/24 [==============================] - 0s 10ms/sample - loss: 0.6702 - acc: 0.6667\n",
      "Epoch 37/100\n",
      "24/24 [==============================] - 0s 11ms/sample - loss: 0.6647 - acc: 0.6667\n",
      "Epoch 38/100\n",
      "24/24 [==============================] - 0s 16ms/sample - loss: 0.6591 - acc: 0.6667\n",
      "Epoch 39/100\n",
      "24/24 [==============================] - 0s 11ms/sample - loss: 0.6533 - acc: 0.6667\n",
      "Epoch 40/100\n",
      "24/24 [==============================] - 0s 14ms/sample - loss: 0.6474 - acc: 0.7500\n",
      "Epoch 41/100\n",
      "24/24 [==============================] - 0s 12ms/sample - loss: 0.6416 - acc: 0.7083\n",
      "Epoch 42/100\n",
      "24/24 [==============================] - 0s 15ms/sample - loss: 0.6362 - acc: 0.7083\n",
      "Epoch 43/100\n",
      "24/24 [==============================] - 0s 19ms/sample - loss: 0.6304 - acc: 0.7500\n",
      "Epoch 44/100\n",
      "24/24 [==============================] - 0s 12ms/sample - loss: 0.6248 - acc: 0.7917\n",
      "Epoch 45/100\n",
      "24/24 [==============================] - 0s 12ms/sample - loss: 0.6194 - acc: 0.7917\n",
      "Epoch 46/100\n",
      "24/24 [==============================] - 0s 15ms/sample - loss: 0.6136 - acc: 0.7917\n",
      "Epoch 47/100\n",
      "24/24 [==============================] - 0s 19ms/sample - loss: 0.6080 - acc: 0.9583\n",
      "Epoch 48/100\n",
      "24/24 [==============================] - 0s 14ms/sample - loss: 0.6024 - acc: 0.9583\n",
      "Epoch 49/100\n",
      "24/24 [==============================] - 0s 20ms/sample - loss: 0.5970 - acc: 0.9583\n",
      "Epoch 50/100\n",
      "24/24 [==============================] - 0s 15ms/sample - loss: 0.5915 - acc: 0.9583\n",
      "Epoch 51/100\n",
      "24/24 [==============================] - 0s 13ms/sample - loss: 0.5861 - acc: 0.9583\n",
      "Epoch 52/100\n",
      "24/24 [==============================] - 0s 17ms/sample - loss: 0.5808 - acc: 0.9583\n",
      "Epoch 53/100\n",
      "24/24 [==============================] - 0s 14ms/sample - loss: 0.5755 - acc: 0.9583\n",
      "Epoch 54/100\n",
      "24/24 [==============================] - 0s 20ms/sample - loss: 0.5696 - acc: 0.9583\n",
      "Epoch 55/100\n",
      "24/24 [==============================] - 0s 21ms/sample - loss: 0.5643 - acc: 0.95830s - loss: 0.5751 - acc\n",
      "Epoch 56/100\n",
      "24/24 [==============================] - 1s 26ms/sample - loss: 0.5588 - acc: 0.9583\n",
      "Epoch 57/100\n",
      "24/24 [==============================] - 1s 48ms/sample - loss: 0.5535 - acc: 0.9583\n",
      "Epoch 58/100\n",
      "24/24 [==============================] - 1s 27ms/sample - loss: 0.5484 - acc: 0.9583\n",
      "Epoch 59/100\n",
      "24/24 [==============================] - 0s 18ms/sample - loss: 0.5429 - acc: 0.9583\n",
      "Epoch 60/100\n",
      "24/24 [==============================] - 1s 22ms/sample - loss: 0.5377 - acc: 0.95830s - loss: 0.5478 - acc: 0\n",
      "Epoch 61/100\n",
      "24/24 [==============================] - 1s 22ms/sample - loss: 0.5325 - acc: 0.95830s - loss: 0.5161 - acc: \n",
      "Epoch 62/100\n",
      "24/24 [==============================] - 0s 20ms/sample - loss: 0.5275 - acc: 0.9583\n",
      "Epoch 63/100\n",
      "24/24 [==============================] - 1s 24ms/sample - loss: 0.5227 - acc: 0.9583\n",
      "Epoch 64/100\n",
      "24/24 [==============================] - 0s 20ms/sample - loss: 0.5183 - acc: 0.9583\n",
      "Epoch 65/100\n",
      "24/24 [==============================] - 0s 21ms/sample - loss: 0.5135 - acc: 0.9583\n",
      "Epoch 66/100\n",
      "24/24 [==============================] - 0s 16ms/sample - loss: 0.5083 - acc: 0.9583\n",
      "Epoch 67/100\n",
      "24/24 [==============================] - 0s 17ms/sample - loss: 0.5036 - acc: 0.9583\n",
      "Epoch 68/100\n",
      "24/24 [==============================] - 0s 19ms/sample - loss: 0.4994 - acc: 0.9583\n",
      "Epoch 69/100\n",
      "24/24 [==============================] - 0s 21ms/sample - loss: 0.4950 - acc: 0.9583\n",
      "Epoch 70/100\n",
      "24/24 [==============================] - 0s 16ms/sample - loss: 0.4912 - acc: 0.9583\n",
      "Epoch 71/100\n",
      "24/24 [==============================] - 1s 32ms/sample - loss: 0.4870 - acc: 0.95830s - loss: 0.5088 - acc: 0\n",
      "Epoch 72/100\n",
      "24/24 [==============================] - ETA: 0s - loss: 0.4823 - acc: 0.956 - 1s 33ms/sample - loss: 0.4825 - acc: 0.9583\n",
      "Epoch 73/100\n",
      "24/24 [==============================] - 1s 23ms/sample - loss: 0.4782 - acc: 0.9583\n",
      "Epoch 74/100\n",
      "24/24 [==============================] - 1s 29ms/sample - loss: 0.4745 - acc: 0.95830s - loss: 0.5187 - acc: 1. - ETA: 0s - loss: 0.4727 - acc: 1.\n",
      "Epoch 75/100\n",
      "24/24 [==============================] - 0s 19ms/sample - loss: 0.4704 - acc: 0.9583\n",
      "Epoch 76/100\n",
      "24/24 [==============================] - 0s 16ms/sample - loss: 0.4666 - acc: 0.9583\n",
      "Epoch 77/100\n",
      "24/24 [==============================] - 0s 15ms/sample - loss: 0.4628 - acc: 0.9583\n",
      "Epoch 78/100\n",
      "24/24 [==============================] - 0s 16ms/sample - loss: 0.4592 - acc: 0.9583\n",
      "Epoch 79/100\n",
      "24/24 [==============================] - 0s 16ms/sample - loss: 0.4554 - acc: 0.9583\n",
      "Epoch 80/100\n",
      "24/24 [==============================] - 0s 15ms/sample - loss: 0.4512 - acc: 1.0000\n",
      "Epoch 81/100\n",
      "24/24 [==============================] - 0s 12ms/sample - loss: 0.4475 - acc: 1.00000s - loss: 0.4579 - acc: 1.00\n",
      "Epoch 82/100\n"
     ]
    },
    {
     "name": "stdout",
     "output_type": "stream",
     "text": [
      "24/24 [==============================] - 0s 7ms/sample - loss: 0.4438 - acc: 1.0000\n",
      "Epoch 83/100\n",
      "24/24 [==============================] - 0s 8ms/sample - loss: 0.4402 - acc: 1.0000\n",
      "Epoch 84/100\n",
      "24/24 [==============================] - 0s 6ms/sample - loss: 0.4365 - acc: 1.0000\n",
      "Epoch 85/100\n",
      "24/24 [==============================] - 0s 14ms/sample - loss: 0.4329 - acc: 1.0000\n",
      "Epoch 86/100\n",
      "24/24 [==============================] - 0s 6ms/sample - loss: 0.4296 - acc: 1.0000\n",
      "Epoch 87/100\n",
      "24/24 [==============================] - 0s 5ms/sample - loss: 0.4262 - acc: 1.0000\n",
      "Epoch 88/100\n",
      "24/24 [==============================] - 0s 8ms/sample - loss: 0.4228 - acc: 1.0000\n",
      "Epoch 89/100\n",
      "24/24 [==============================] - 0s 7ms/sample - loss: 0.4201 - acc: 1.0000\n",
      "Epoch 90/100\n",
      "24/24 [==============================] - 1s 21ms/sample - loss: 0.4163 - acc: 1.00000s - loss: 0.3995 - acc: 1.000 - ETA: 0s - loss: 0.3652 - acc: \n",
      "Epoch 91/100\n",
      "24/24 [==============================] - 0s 6ms/sample - loss: 0.4131 - acc: 1.0000\n",
      "Epoch 92/100\n",
      "24/24 [==============================] - 0s 8ms/sample - loss: 0.4098 - acc: 1.0000 0s - loss: 0.4390 - acc: 1.0\n",
      "Epoch 93/100\n",
      "24/24 [==============================] - 0s 8ms/sample - loss: 0.4065 - acc: 1.0000\n",
      "Epoch 94/100\n",
      "24/24 [==============================] - 0s 12ms/sample - loss: 0.4033 - acc: 1.0000\n",
      "Epoch 95/100\n",
      "24/24 [==============================] - 0s 14ms/sample - loss: 0.4004 - acc: 1.0000\n",
      "Epoch 96/100\n",
      "24/24 [==============================] - 0s 17ms/sample - loss: 0.3970 - acc: 1.0000\n",
      "Epoch 97/100\n",
      "24/24 [==============================] - 0s 20ms/sample - loss: 0.3938 - acc: 1.00000s - loss: 0.3953 - acc: 1.000 - ETA: 0s - loss: 0.4074 - acc: 1.0\n",
      "Epoch 98/100\n",
      "24/24 [==============================] - 0s 15ms/sample - loss: 0.3908 - acc: 1.0000\n",
      "Epoch 99/100\n",
      "24/24 [==============================] - 0s 9ms/sample - loss: 0.3879 - acc: 1.0000\n",
      "Epoch 100/100\n",
      "24/24 [==============================] - 0s 20ms/sample - loss: 0.3853 - acc: 1.00000s - loss: 0.3998 - acc: 1\n"
     ]
    },
    {
     "data": {
      "text/plain": [
       "<tensorflow.python.keras.callbacks.History at 0x7f804a487d30>"
      ]
     },
     "execution_count": 34,
     "metadata": {},
     "output_type": "execute_result"
    }
   ],
   "source": [
    "model.fit(X_train,y_train,epochs=100,batch_size=1,verbose=1)"
   ]
  },
  {
   "cell_type": "code",
   "execution_count": 35,
   "metadata": {},
   "outputs": [],
   "source": [
    "y_prediction = model.predict(X_test)"
   ]
  },
  {
   "cell_type": "code",
   "execution_count": 36,
   "metadata": {},
   "outputs": [
    {
     "data": {
      "text/plain": [
       "(array([[0.693223  ],\n",
       "        [0.46283272],\n",
       "        [0.6606226 ],\n",
       "        [0.14314778],\n",
       "        [0.31466225],\n",
       "        [0.22052345],\n",
       "        [0.693223  ]], dtype=float32), array([[1],\n",
       "        [1],\n",
       "        [1],\n",
       "        [0],\n",
       "        [0],\n",
       "        [0],\n",
       "        [1]]))"
      ]
     },
     "execution_count": 36,
     "metadata": {},
     "output_type": "execute_result"
    }
   ],
   "source": [
    "y_prediction,y_test"
   ]
  },
  {
   "cell_type": "code",
   "execution_count": null,
   "metadata": {},
   "outputs": [],
   "source": []
  }
 ],
 "metadata": {
  "kernelspec": {
   "display_name": "Python 3",
   "language": "python",
   "name": "python3"
  },
  "language_info": {
   "codemirror_mode": {
    "name": "ipython",
    "version": 3
   },
   "file_extension": ".py",
   "mimetype": "text/x-python",
   "name": "python",
   "nbconvert_exporter": "python",
   "pygments_lexer": "ipython3",
   "version": "3.7.1"
  }
 },
 "nbformat": 4,
 "nbformat_minor": 2
}
